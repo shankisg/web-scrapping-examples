{
 "metadata": {
  "name": "Web scrapping"
 },
 "nbformat": 3,
 "nbformat_minor": 0,
 "worksheets": [
  {
   "cells": [
    {
     "cell_type": "code",
     "collapsed": false,
     "input": [
      "%run beautifulsoup-ex-1.py"
     ],
     "language": "python",
     "metadata": {},
     "outputs": [
      {
       "output_type": "stream",
       "stream": "stdout",
       "text": [
        "\n",
        "<html>\n",
        "\t<head>\n",
        "\t\t<title>BeautifulSoup Example</title>\n",
        "\t</head>\n",
        "\t<body>\n",
        "\t<p class=\"title\">\n",
        "\t\t<b>BeautifulSoup Example</b>\n",
        "\t</p>\n",
        "\n",
        "\t<p class=\"parent-text\">Quick demo on BeautifulSoup,\n",
        "\t<a href=\"http://example.com/Text 1\" class=\"sister-text\" id=\"link1\">Text 1</a>,\n",
        "\t<a href=\"http://example.com/Text 2\" class=\"sister-text\" id=\"link2\">Text 2</a> and\n",
        "\t<a href=\"http://example.com/Text 3\" class=\"sister-text\" id=\"link3\">Text 3</a>;\n",
        "\tdo you like it.</p>\n",
        "\n",
        "\t<p class=\"parent-text\">...</p>\n",
        "\n",
        "\n",
        "command: soup.title\n",
        "<title>BeautifulSoup Example</title>\n",
        "\n",
        "command: soup.p\n",
        "<p class=\"title\">\n",
        "<b>BeautifulSoup Example</b>\n",
        "</p>\n",
        "\n",
        "command: soup.p['class']\n",
        "['title']\n",
        "\n",
        "command: soup.a\n",
        "<a class=\"sister-text\" href=\"http://example.com/Text 1\" id=\"link1\">Text 1</a>\n",
        "\n",
        "command: soup.find_all('a')\n",
        "[<a class=\"sister-text\" href=\"http://example.com/Text 1\" id=\"link1\">Text 1</a>, <a class=\"sister-text\" href=\"http://example.com/Text 2\" id=\"link2\">Text 2</a>, <a class=\"sister-text\" href=\"http://example.com/Text 3\" id=\"link3\">Text 3</a>]\n",
        "\n",
        "command: soup.find(id='link3')\n",
        "<a class=\"sister-text\" href=\"http://example.com/Text 3\" id=\"link3\">Text 3</a>\n"
       ]
      }
     ],
     "prompt_number": 3
    },
    {
     "cell_type": "code",
     "collapsed": false,
     "input": [
      "from mechanize import Browser\n",
      "item_list = [\"htc\", \"sony\", \"dell\"]\n",
      "url_list = []\n",
      "\n",
      "br = Browser()\n",
      "br.set_handle_robots(False)\n",
      "br.addheaders = [('User-agent', 'Firefox')]\n",
      "br.open(\"http://www.flipkart.com/\")\n",
      "\n",
      "for item in item_list:\n",
      "    br.select_form('f')\n",
      "    br.form['q'] = item\n",
      "    br.submit()\n",
      "    url_list.append(br.base_url)\n",
      "    \n",
      "print url_list"
     ],
     "language": "python",
     "metadata": {},
     "outputs": [
      {
       "ename": "IndentationError",
       "evalue": "unindent does not match any outer indentation level (<ipython-input-65-32689b186e39>, line 14)",
       "output_type": "pyerr",
       "traceback": [
        "\u001b[1;31mIndentationError\u001b[0m\u001b[1;31m:\u001b[0m unindent does not match any outer indentation level\n"
       ]
      }
     ],
     "prompt_number": 65
    },
    {
     "cell_type": "code",
     "collapsed": false,
     "input": [],
     "language": "python",
     "metadata": {},
     "outputs": [],
     "prompt_number": 7
    },
    {
     "cell_type": "code",
     "collapsed": false,
     "input": [],
     "language": "python",
     "metadata": {},
     "outputs": []
    }
   ],
   "metadata": {}
  }
 ]
}